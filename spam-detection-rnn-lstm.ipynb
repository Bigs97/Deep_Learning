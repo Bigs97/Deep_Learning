{
 "cells": [
  {
   "cell_type": "code",
   "execution_count": 1,
   "id": "69389794",
   "metadata": {
    "_cell_guid": "b1076dfc-b9ad-4769-8c92-a6c4dae69d19",
    "_uuid": "8f2839f25d086af736a60e9eeb907d3b93b6e0e5",
    "execution": {
     "iopub.execute_input": "2023-06-30T14:22:38.628026Z",
     "iopub.status.busy": "2023-06-30T14:22:38.627544Z",
     "iopub.status.idle": "2023-06-30T14:22:38.645932Z",
     "shell.execute_reply": "2023-06-30T14:22:38.644497Z"
    },
    "papermill": {
     "duration": 0.029909,
     "end_time": "2023-06-30T14:22:38.649374",
     "exception": false,
     "start_time": "2023-06-30T14:22:38.619465",
     "status": "completed"
    },
    "tags": []
   },
   "outputs": [
    {
     "name": "stdout",
     "output_type": "stream",
     "text": [
      "/kaggle/input/email-spam-detection-dataset-classification/spam.csv\n"
     ]
    }
   ],
   "source": [
    "# This Python 3 environment comes with many helpful analytics libraries installed\n",
    "# It is defined by the kaggle/python Docker image: https://github.com/kaggle/docker-python\n",
    "# For example, here's several helpful packages to load\n",
    "\n",
    "import numpy as np # linear algebra\n",
    "import pandas as pd # data processing, CSV file I/O (e.g. pd.read_csv)\n",
    "\n",
    "# Input data files are available in the read-only \"../input/\" directory\n",
    "# For example, running this (by clicking run or pressing Shift+Enter) will list all files under the input directory\n",
    "\n",
    "import os\n",
    "for dirname, _, filenames in os.walk('/kaggle/input'):\n",
    "    for filename in filenames:\n",
    "        print(os.path.join(dirname, filename))\n",
    "\n",
    "# You can write up to 20GB to the current directory (/kaggle/working/) that gets preserved as output when you create a version using \"Save & Run All\" \n",
    "# You can also write temporary files to /kaggle/temp/, but they won't be saved outside of the current session"
   ]
  },
  {
   "cell_type": "code",
   "execution_count": 2,
   "id": "6f8bca25",
   "metadata": {
    "execution": {
     "iopub.execute_input": "2023-06-30T14:22:38.663790Z",
     "iopub.status.busy": "2023-06-30T14:22:38.663350Z",
     "iopub.status.idle": "2023-06-30T14:22:47.618930Z",
     "shell.execute_reply": "2023-06-30T14:22:47.617955Z"
    },
    "papermill": {
     "duration": 8.964984,
     "end_time": "2023-06-30T14:22:47.621350",
     "exception": false,
     "start_time": "2023-06-30T14:22:38.656366",
     "status": "completed"
    },
    "tags": []
   },
   "outputs": [
    {
     "name": "stderr",
     "output_type": "stream",
     "text": [
      "/opt/conda/lib/python3.10/site-packages/tensorflow_io/python/ops/__init__.py:98: UserWarning: unable to load libtensorflow_io_plugins.so: unable to open file: libtensorflow_io_plugins.so, from paths: ['/opt/conda/lib/python3.10/site-packages/tensorflow_io/python/ops/libtensorflow_io_plugins.so']\n",
      "caused by: ['/opt/conda/lib/python3.10/site-packages/tensorflow_io/python/ops/libtensorflow_io_plugins.so: undefined symbol: _ZN3tsl6StatusC1EN10tensorflow5error4CodeESt17basic_string_viewIcSt11char_traitsIcEENS_14SourceLocationE']\n",
      "  warnings.warn(f\"unable to load libtensorflow_io_plugins.so: {e}\")\n",
      "/opt/conda/lib/python3.10/site-packages/tensorflow_io/python/ops/__init__.py:104: UserWarning: file system plugins are not loaded: unable to open file: libtensorflow_io.so, from paths: ['/opt/conda/lib/python3.10/site-packages/tensorflow_io/python/ops/libtensorflow_io.so']\n",
      "caused by: ['/opt/conda/lib/python3.10/site-packages/tensorflow_io/python/ops/libtensorflow_io.so: undefined symbol: _ZTVN10tensorflow13GcsFileSystemE']\n",
      "  warnings.warn(f\"file system plugins are not loaded: {e}\")\n"
     ]
    }
   ],
   "source": [
    "import pandas as pd\n",
    "import matplotlib.pyplot as plt\n",
    "from sklearn.model_selection import train_test_split\n",
    "\n",
    "from tensorflow.keras.preprocessing.text import Tokenizer\n",
    "from tensorflow.keras.preprocessing.sequence import pad_sequences\n",
    "from tensorflow.keras.layers import Input,Dense,GlobalMaxPooling1D,LSTM,Embedding\n",
    "from tensorflow.keras.models import Model"
   ]
  },
  {
   "cell_type": "code",
   "execution_count": 3,
   "id": "e31c322c",
   "metadata": {
    "execution": {
     "iopub.execute_input": "2023-06-30T14:22:47.634582Z",
     "iopub.status.busy": "2023-06-30T14:22:47.633953Z",
     "iopub.status.idle": "2023-06-30T14:22:47.677581Z",
     "shell.execute_reply": "2023-06-30T14:22:47.676709Z"
    },
    "papermill": {
     "duration": 0.052449,
     "end_time": "2023-06-30T14:22:47.679764",
     "exception": false,
     "start_time": "2023-06-30T14:22:47.627315",
     "status": "completed"
    },
    "tags": []
   },
   "outputs": [
    {
     "data": {
      "text/html": [
       "<div>\n",
       "<style scoped>\n",
       "    .dataframe tbody tr th:only-of-type {\n",
       "        vertical-align: middle;\n",
       "    }\n",
       "\n",
       "    .dataframe tbody tr th {\n",
       "        vertical-align: top;\n",
       "    }\n",
       "\n",
       "    .dataframe thead th {\n",
       "        text-align: right;\n",
       "    }\n",
       "</style>\n",
       "<table border=\"1\" class=\"dataframe\">\n",
       "  <thead>\n",
       "    <tr style=\"text-align: right;\">\n",
       "      <th></th>\n",
       "      <th>v1</th>\n",
       "      <th>v2</th>\n",
       "      <th>Unnamed: 2</th>\n",
       "      <th>Unnamed: 3</th>\n",
       "      <th>Unnamed: 4</th>\n",
       "    </tr>\n",
       "  </thead>\n",
       "  <tbody>\n",
       "    <tr>\n",
       "      <th>0</th>\n",
       "      <td>ham</td>\n",
       "      <td>Go until jurong point, crazy.. Available only ...</td>\n",
       "      <td>NaN</td>\n",
       "      <td>NaN</td>\n",
       "      <td>NaN</td>\n",
       "    </tr>\n",
       "    <tr>\n",
       "      <th>1</th>\n",
       "      <td>ham</td>\n",
       "      <td>Ok lar... Joking wif u oni...</td>\n",
       "      <td>NaN</td>\n",
       "      <td>NaN</td>\n",
       "      <td>NaN</td>\n",
       "    </tr>\n",
       "    <tr>\n",
       "      <th>2</th>\n",
       "      <td>spam</td>\n",
       "      <td>Free entry in 2 a wkly comp to win FA Cup fina...</td>\n",
       "      <td>NaN</td>\n",
       "      <td>NaN</td>\n",
       "      <td>NaN</td>\n",
       "    </tr>\n",
       "    <tr>\n",
       "      <th>3</th>\n",
       "      <td>ham</td>\n",
       "      <td>U dun say so early hor... U c already then say...</td>\n",
       "      <td>NaN</td>\n",
       "      <td>NaN</td>\n",
       "      <td>NaN</td>\n",
       "    </tr>\n",
       "    <tr>\n",
       "      <th>4</th>\n",
       "      <td>ham</td>\n",
       "      <td>Nah I don't think he goes to usf, he lives aro...</td>\n",
       "      <td>NaN</td>\n",
       "      <td>NaN</td>\n",
       "      <td>NaN</td>\n",
       "    </tr>\n",
       "    <tr>\n",
       "      <th>...</th>\n",
       "      <td>...</td>\n",
       "      <td>...</td>\n",
       "      <td>...</td>\n",
       "      <td>...</td>\n",
       "      <td>...</td>\n",
       "    </tr>\n",
       "    <tr>\n",
       "      <th>5567</th>\n",
       "      <td>spam</td>\n",
       "      <td>This is the 2nd time we have tried 2 contact u...</td>\n",
       "      <td>NaN</td>\n",
       "      <td>NaN</td>\n",
       "      <td>NaN</td>\n",
       "    </tr>\n",
       "    <tr>\n",
       "      <th>5568</th>\n",
       "      <td>ham</td>\n",
       "      <td>Will Ì_ b going to esplanade fr home?</td>\n",
       "      <td>NaN</td>\n",
       "      <td>NaN</td>\n",
       "      <td>NaN</td>\n",
       "    </tr>\n",
       "    <tr>\n",
       "      <th>5569</th>\n",
       "      <td>ham</td>\n",
       "      <td>Pity, * was in mood for that. So...any other s...</td>\n",
       "      <td>NaN</td>\n",
       "      <td>NaN</td>\n",
       "      <td>NaN</td>\n",
       "    </tr>\n",
       "    <tr>\n",
       "      <th>5570</th>\n",
       "      <td>ham</td>\n",
       "      <td>The guy did some bitching but I acted like i'd...</td>\n",
       "      <td>NaN</td>\n",
       "      <td>NaN</td>\n",
       "      <td>NaN</td>\n",
       "    </tr>\n",
       "    <tr>\n",
       "      <th>5571</th>\n",
       "      <td>ham</td>\n",
       "      <td>Rofl. Its true to its name</td>\n",
       "      <td>NaN</td>\n",
       "      <td>NaN</td>\n",
       "      <td>NaN</td>\n",
       "    </tr>\n",
       "  </tbody>\n",
       "</table>\n",
       "<p>5572 rows × 5 columns</p>\n",
       "</div>"
      ],
      "text/plain": [
       "        v1                                                 v2 Unnamed: 2  \\\n",
       "0      ham  Go until jurong point, crazy.. Available only ...        NaN   \n",
       "1      ham                      Ok lar... Joking wif u oni...        NaN   \n",
       "2     spam  Free entry in 2 a wkly comp to win FA Cup fina...        NaN   \n",
       "3      ham  U dun say so early hor... U c already then say...        NaN   \n",
       "4      ham  Nah I don't think he goes to usf, he lives aro...        NaN   \n",
       "...    ...                                                ...        ...   \n",
       "5567  spam  This is the 2nd time we have tried 2 contact u...        NaN   \n",
       "5568   ham              Will Ì_ b going to esplanade fr home?        NaN   \n",
       "5569   ham  Pity, * was in mood for that. So...any other s...        NaN   \n",
       "5570   ham  The guy did some bitching but I acted like i'd...        NaN   \n",
       "5571   ham                         Rofl. Its true to its name        NaN   \n",
       "\n",
       "     Unnamed: 3 Unnamed: 4  \n",
       "0           NaN        NaN  \n",
       "1           NaN        NaN  \n",
       "2           NaN        NaN  \n",
       "3           NaN        NaN  \n",
       "4           NaN        NaN  \n",
       "...         ...        ...  \n",
       "5567        NaN        NaN  \n",
       "5568        NaN        NaN  \n",
       "5569        NaN        NaN  \n",
       "5570        NaN        NaN  \n",
       "5571        NaN        NaN  \n",
       "\n",
       "[5572 rows x 5 columns]"
      ]
     },
     "execution_count": 3,
     "metadata": {},
     "output_type": "execute_result"
    }
   ],
   "source": [
    "df = pd.read_csv('/kaggle/input/email-spam-detection-dataset-classification/spam.csv', encoding = \"ISO-8859-1\")\n",
    "df"
   ]
  },
  {
   "cell_type": "code",
   "execution_count": 4,
   "id": "d7ce2d5a",
   "metadata": {
    "execution": {
     "iopub.execute_input": "2023-06-30T14:22:47.695373Z",
     "iopub.status.busy": "2023-06-30T14:22:47.695053Z",
     "iopub.status.idle": "2023-06-30T14:22:47.709226Z",
     "shell.execute_reply": "2023-06-30T14:22:47.708314Z"
    },
    "papermill": {
     "duration": 0.02419,
     "end_time": "2023-06-30T14:22:47.711405",
     "exception": false,
     "start_time": "2023-06-30T14:22:47.687215",
     "status": "completed"
    },
    "tags": []
   },
   "outputs": [
    {
     "data": {
      "text/html": [
       "<div>\n",
       "<style scoped>\n",
       "    .dataframe tbody tr th:only-of-type {\n",
       "        vertical-align: middle;\n",
       "    }\n",
       "\n",
       "    .dataframe tbody tr th {\n",
       "        vertical-align: top;\n",
       "    }\n",
       "\n",
       "    .dataframe thead th {\n",
       "        text-align: right;\n",
       "    }\n",
       "</style>\n",
       "<table border=\"1\" class=\"dataframe\">\n",
       "  <thead>\n",
       "    <tr style=\"text-align: right;\">\n",
       "      <th></th>\n",
       "      <th>v1</th>\n",
       "      <th>v2</th>\n",
       "    </tr>\n",
       "  </thead>\n",
       "  <tbody>\n",
       "    <tr>\n",
       "      <th>0</th>\n",
       "      <td>ham</td>\n",
       "      <td>Go until jurong point, crazy.. Available only ...</td>\n",
       "    </tr>\n",
       "    <tr>\n",
       "      <th>1</th>\n",
       "      <td>ham</td>\n",
       "      <td>Ok lar... Joking wif u oni...</td>\n",
       "    </tr>\n",
       "    <tr>\n",
       "      <th>2</th>\n",
       "      <td>spam</td>\n",
       "      <td>Free entry in 2 a wkly comp to win FA Cup fina...</td>\n",
       "    </tr>\n",
       "    <tr>\n",
       "      <th>3</th>\n",
       "      <td>ham</td>\n",
       "      <td>U dun say so early hor... U c already then say...</td>\n",
       "    </tr>\n",
       "    <tr>\n",
       "      <th>4</th>\n",
       "      <td>ham</td>\n",
       "      <td>Nah I don't think he goes to usf, he lives aro...</td>\n",
       "    </tr>\n",
       "    <tr>\n",
       "      <th>...</th>\n",
       "      <td>...</td>\n",
       "      <td>...</td>\n",
       "    </tr>\n",
       "    <tr>\n",
       "      <th>5567</th>\n",
       "      <td>spam</td>\n",
       "      <td>This is the 2nd time we have tried 2 contact u...</td>\n",
       "    </tr>\n",
       "    <tr>\n",
       "      <th>5568</th>\n",
       "      <td>ham</td>\n",
       "      <td>Will Ì_ b going to esplanade fr home?</td>\n",
       "    </tr>\n",
       "    <tr>\n",
       "      <th>5569</th>\n",
       "      <td>ham</td>\n",
       "      <td>Pity, * was in mood for that. So...any other s...</td>\n",
       "    </tr>\n",
       "    <tr>\n",
       "      <th>5570</th>\n",
       "      <td>ham</td>\n",
       "      <td>The guy did some bitching but I acted like i'd...</td>\n",
       "    </tr>\n",
       "    <tr>\n",
       "      <th>5571</th>\n",
       "      <td>ham</td>\n",
       "      <td>Rofl. Its true to its name</td>\n",
       "    </tr>\n",
       "  </tbody>\n",
       "</table>\n",
       "<p>5572 rows × 2 columns</p>\n",
       "</div>"
      ],
      "text/plain": [
       "        v1                                                 v2\n",
       "0      ham  Go until jurong point, crazy.. Available only ...\n",
       "1      ham                      Ok lar... Joking wif u oni...\n",
       "2     spam  Free entry in 2 a wkly comp to win FA Cup fina...\n",
       "3      ham  U dun say so early hor... U c already then say...\n",
       "4      ham  Nah I don't think he goes to usf, he lives aro...\n",
       "...    ...                                                ...\n",
       "5567  spam  This is the 2nd time we have tried 2 contact u...\n",
       "5568   ham              Will Ì_ b going to esplanade fr home?\n",
       "5569   ham  Pity, * was in mood for that. So...any other s...\n",
       "5570   ham  The guy did some bitching but I acted like i'd...\n",
       "5571   ham                         Rofl. Its true to its name\n",
       "\n",
       "[5572 rows x 2 columns]"
      ]
     },
     "execution_count": 4,
     "metadata": {},
     "output_type": "execute_result"
    }
   ],
   "source": [
    "df = df.drop(['Unnamed: 2', 'Unnamed: 3', 'Unnamed: 4'], axis = 1)\n",
    "df"
   ]
  },
  {
   "cell_type": "code",
   "execution_count": 5,
   "id": "5f4e4fa2",
   "metadata": {
    "execution": {
     "iopub.execute_input": "2023-06-30T14:22:47.727380Z",
     "iopub.status.busy": "2023-06-30T14:22:47.727054Z",
     "iopub.status.idle": "2023-06-30T14:22:47.739443Z",
     "shell.execute_reply": "2023-06-30T14:22:47.738459Z"
    },
    "papermill": {
     "duration": 0.023165,
     "end_time": "2023-06-30T14:22:47.741836",
     "exception": false,
     "start_time": "2023-06-30T14:22:47.718671",
     "status": "completed"
    },
    "tags": []
   },
   "outputs": [
    {
     "data": {
      "text/html": [
       "<div>\n",
       "<style scoped>\n",
       "    .dataframe tbody tr th:only-of-type {\n",
       "        vertical-align: middle;\n",
       "    }\n",
       "\n",
       "    .dataframe tbody tr th {\n",
       "        vertical-align: top;\n",
       "    }\n",
       "\n",
       "    .dataframe thead th {\n",
       "        text-align: right;\n",
       "    }\n",
       "</style>\n",
       "<table border=\"1\" class=\"dataframe\">\n",
       "  <thead>\n",
       "    <tr style=\"text-align: right;\">\n",
       "      <th></th>\n",
       "      <th>labels</th>\n",
       "      <th>data</th>\n",
       "    </tr>\n",
       "  </thead>\n",
       "  <tbody>\n",
       "    <tr>\n",
       "      <th>0</th>\n",
       "      <td>ham</td>\n",
       "      <td>Go until jurong point, crazy.. Available only ...</td>\n",
       "    </tr>\n",
       "    <tr>\n",
       "      <th>1</th>\n",
       "      <td>ham</td>\n",
       "      <td>Ok lar... Joking wif u oni...</td>\n",
       "    </tr>\n",
       "    <tr>\n",
       "      <th>2</th>\n",
       "      <td>spam</td>\n",
       "      <td>Free entry in 2 a wkly comp to win FA Cup fina...</td>\n",
       "    </tr>\n",
       "    <tr>\n",
       "      <th>3</th>\n",
       "      <td>ham</td>\n",
       "      <td>U dun say so early hor... U c already then say...</td>\n",
       "    </tr>\n",
       "    <tr>\n",
       "      <th>4</th>\n",
       "      <td>ham</td>\n",
       "      <td>Nah I don't think he goes to usf, he lives aro...</td>\n",
       "    </tr>\n",
       "    <tr>\n",
       "      <th>...</th>\n",
       "      <td>...</td>\n",
       "      <td>...</td>\n",
       "    </tr>\n",
       "    <tr>\n",
       "      <th>5567</th>\n",
       "      <td>spam</td>\n",
       "      <td>This is the 2nd time we have tried 2 contact u...</td>\n",
       "    </tr>\n",
       "    <tr>\n",
       "      <th>5568</th>\n",
       "      <td>ham</td>\n",
       "      <td>Will Ì_ b going to esplanade fr home?</td>\n",
       "    </tr>\n",
       "    <tr>\n",
       "      <th>5569</th>\n",
       "      <td>ham</td>\n",
       "      <td>Pity, * was in mood for that. So...any other s...</td>\n",
       "    </tr>\n",
       "    <tr>\n",
       "      <th>5570</th>\n",
       "      <td>ham</td>\n",
       "      <td>The guy did some bitching but I acted like i'd...</td>\n",
       "    </tr>\n",
       "    <tr>\n",
       "      <th>5571</th>\n",
       "      <td>ham</td>\n",
       "      <td>Rofl. Its true to its name</td>\n",
       "    </tr>\n",
       "  </tbody>\n",
       "</table>\n",
       "<p>5572 rows × 2 columns</p>\n",
       "</div>"
      ],
      "text/plain": [
       "     labels                                               data\n",
       "0       ham  Go until jurong point, crazy.. Available only ...\n",
       "1       ham                      Ok lar... Joking wif u oni...\n",
       "2      spam  Free entry in 2 a wkly comp to win FA Cup fina...\n",
       "3       ham  U dun say so early hor... U c already then say...\n",
       "4       ham  Nah I don't think he goes to usf, he lives aro...\n",
       "...     ...                                                ...\n",
       "5567   spam  This is the 2nd time we have tried 2 contact u...\n",
       "5568    ham              Will Ì_ b going to esplanade fr home?\n",
       "5569    ham  Pity, * was in mood for that. So...any other s...\n",
       "5570    ham  The guy did some bitching but I acted like i'd...\n",
       "5571    ham                         Rofl. Its true to its name\n",
       "\n",
       "[5572 rows x 2 columns]"
      ]
     },
     "execution_count": 5,
     "metadata": {},
     "output_type": "execute_result"
    }
   ],
   "source": [
    "df.columns = ['labels', 'data']\n",
    "df"
   ]
  },
  {
   "cell_type": "code",
   "execution_count": 6,
   "id": "f66341e0",
   "metadata": {
    "execution": {
     "iopub.execute_input": "2023-06-30T14:22:47.757131Z",
     "iopub.status.busy": "2023-06-30T14:22:47.756867Z",
     "iopub.status.idle": "2023-06-30T14:22:47.763650Z",
     "shell.execute_reply": "2023-06-30T14:22:47.762773Z"
    },
    "papermill": {
     "duration": 0.016613,
     "end_time": "2023-06-30T14:22:47.765627",
     "exception": false,
     "start_time": "2023-06-30T14:22:47.749014",
     "status": "completed"
    },
    "tags": []
   },
   "outputs": [],
   "source": [
    "df['b_labels'] = df['labels'].map({'ham':0, 'spam':1})\n",
    "Y = df['b_labels'].values"
   ]
  },
  {
   "cell_type": "code",
   "execution_count": 7,
   "id": "0f62f62d",
   "metadata": {
    "execution": {
     "iopub.execute_input": "2023-06-30T14:22:47.779911Z",
     "iopub.status.busy": "2023-06-30T14:22:47.779658Z",
     "iopub.status.idle": "2023-06-30T14:22:47.785613Z",
     "shell.execute_reply": "2023-06-30T14:22:47.784810Z"
    },
    "papermill": {
     "duration": 0.015328,
     "end_time": "2023-06-30T14:22:47.787665",
     "exception": false,
     "start_time": "2023-06-30T14:22:47.772337",
     "status": "completed"
    },
    "tags": []
   },
   "outputs": [],
   "source": [
    "df_train, df_test, Ytrain, Ytest = train_test_split(df['data'], Y, test_size = 0.33)"
   ]
  },
  {
   "cell_type": "code",
   "execution_count": 8,
   "id": "d7c57f70",
   "metadata": {
    "execution": {
     "iopub.execute_input": "2023-06-30T14:22:47.801751Z",
     "iopub.status.busy": "2023-06-30T14:22:47.801498Z",
     "iopub.status.idle": "2023-06-30T14:22:48.006794Z",
     "shell.execute_reply": "2023-06-30T14:22:48.005924Z"
    },
    "papermill": {
     "duration": 0.215188,
     "end_time": "2023-06-30T14:22:48.009403",
     "exception": false,
     "start_time": "2023-06-30T14:22:47.794215",
     "status": "completed"
    },
    "tags": []
   },
   "outputs": [],
   "source": [
    "MAX_VOCAB_SIZE = 20000\n",
    "tokenizer = Tokenizer(num_words = MAX_VOCAB_SIZE)\n",
    "tokenizer.fit_on_texts(df_train)\n",
    "sequences_train = tokenizer.texts_to_sequences(df_train)\n",
    "sequences_test = tokenizer.texts_to_sequences(df_test)"
   ]
  },
  {
   "cell_type": "code",
   "execution_count": 9,
   "id": "78d9b307",
   "metadata": {
    "execution": {
     "iopub.execute_input": "2023-06-30T14:22:48.024111Z",
     "iopub.status.busy": "2023-06-30T14:22:48.023817Z",
     "iopub.status.idle": "2023-06-30T14:22:48.029783Z",
     "shell.execute_reply": "2023-06-30T14:22:48.028211Z"
    },
    "papermill": {
     "duration": 0.015808,
     "end_time": "2023-06-30T14:22:48.031862",
     "exception": false,
     "start_time": "2023-06-30T14:22:48.016054",
     "status": "completed"
    },
    "tags": []
   },
   "outputs": [
    {
     "name": "stdout",
     "output_type": "stream",
     "text": [
      "Found 7223 unique tokens.\n"
     ]
    }
   ],
   "source": [
    "word2idx = tokenizer.word_index\n",
    "V = len(word2idx)\n",
    "print(f'Found {V} unique tokens.')"
   ]
  },
  {
   "cell_type": "code",
   "execution_count": 10,
   "id": "1a92e208",
   "metadata": {
    "execution": {
     "iopub.execute_input": "2023-06-30T14:22:48.046555Z",
     "iopub.status.busy": "2023-06-30T14:22:48.046199Z",
     "iopub.status.idle": "2023-06-30T14:22:48.072632Z",
     "shell.execute_reply": "2023-06-30T14:22:48.071493Z"
    },
    "papermill": {
     "duration": 0.036738,
     "end_time": "2023-06-30T14:22:48.075313",
     "exception": false,
     "start_time": "2023-06-30T14:22:48.038575",
     "status": "completed"
    },
    "tags": []
   },
   "outputs": [
    {
     "name": "stdout",
     "output_type": "stream",
     "text": [
      "Shape of data train tensor: (3733, 189)\n"
     ]
    }
   ],
   "source": [
    "data_train = pad_sequences(sequences_train)\n",
    "print(f\"Shape of data train tensor: {data_train.shape}\")"
   ]
  },
  {
   "cell_type": "code",
   "execution_count": 11,
   "id": "d6ef1523",
   "metadata": {
    "execution": {
     "iopub.execute_input": "2023-06-30T14:22:48.090598Z",
     "iopub.status.busy": "2023-06-30T14:22:48.090306Z",
     "iopub.status.idle": "2023-06-30T14:22:48.096380Z",
     "shell.execute_reply": "2023-06-30T14:22:48.095451Z"
    },
    "papermill": {
     "duration": 0.01627,
     "end_time": "2023-06-30T14:22:48.098472",
     "exception": false,
     "start_time": "2023-06-30T14:22:48.082202",
     "status": "completed"
    },
    "tags": []
   },
   "outputs": [
    {
     "data": {
      "text/plain": [
       "189"
      ]
     },
     "execution_count": 11,
     "metadata": {},
     "output_type": "execute_result"
    }
   ],
   "source": [
    "T = data_train.shape[1]\n",
    "T"
   ]
  },
  {
   "cell_type": "code",
   "execution_count": 12,
   "id": "c66419e0",
   "metadata": {
    "execution": {
     "iopub.execute_input": "2023-06-30T14:22:48.114280Z",
     "iopub.status.busy": "2023-06-30T14:22:48.113473Z",
     "iopub.status.idle": "2023-06-30T14:22:48.128589Z",
     "shell.execute_reply": "2023-06-30T14:22:48.127218Z"
    },
    "papermill": {
     "duration": 0.024785,
     "end_time": "2023-06-30T14:22:48.130549",
     "exception": false,
     "start_time": "2023-06-30T14:22:48.105764",
     "status": "completed"
    },
    "tags": []
   },
   "outputs": [
    {
     "name": "stdout",
     "output_type": "stream",
     "text": [
      "Shape of data test tensor: (1839, 189)\n"
     ]
    }
   ],
   "source": [
    "data_test = pad_sequences(sequences_test, maxlen = T)\n",
    "print(f\"Shape of data test tensor: {data_test.shape}\")"
   ]
  },
  {
   "cell_type": "code",
   "execution_count": 13,
   "id": "2a3bda09",
   "metadata": {
    "execution": {
     "iopub.execute_input": "2023-06-30T14:22:48.146873Z",
     "iopub.status.busy": "2023-06-30T14:22:48.146041Z",
     "iopub.status.idle": "2023-06-30T14:22:51.281967Z",
     "shell.execute_reply": "2023-06-30T14:22:51.280972Z"
    },
    "papermill": {
     "duration": 3.146657,
     "end_time": "2023-06-30T14:22:51.284450",
     "exception": false,
     "start_time": "2023-06-30T14:22:48.137793",
     "status": "completed"
    },
    "tags": []
   },
   "outputs": [],
   "source": [
    "D = 20\n",
    "M = 15\n",
    "\n",
    "i = Input(shape = (T,))\n",
    "x = Embedding(V+1, D)(i)\n",
    "x = LSTM(M, return_sequences = True)(x)\n",
    "x = GlobalMaxPooling1D()(x)\n",
    "x = Dense(1, activation = 'sigmoid')(x)\n",
    "\n",
    "model = Model(i,x)"
   ]
  },
  {
   "cell_type": "code",
   "execution_count": 14,
   "id": "e5347020",
   "metadata": {
    "execution": {
     "iopub.execute_input": "2023-06-30T14:22:51.302650Z",
     "iopub.status.busy": "2023-06-30T14:22:51.300929Z",
     "iopub.status.idle": "2023-06-30T14:22:51.318299Z",
     "shell.execute_reply": "2023-06-30T14:22:51.317381Z"
    },
    "papermill": {
     "duration": 0.02841,
     "end_time": "2023-06-30T14:22:51.320460",
     "exception": false,
     "start_time": "2023-06-30T14:22:51.292050",
     "status": "completed"
    },
    "tags": []
   },
   "outputs": [],
   "source": [
    "model.compile(optimizer = 'adam',\n",
    "             loss = 'binary_crossentropy',\n",
    "             metrics = ['accuracy'])"
   ]
  },
  {
   "cell_type": "code",
   "execution_count": 15,
   "id": "dbdfe1f0",
   "metadata": {
    "execution": {
     "iopub.execute_input": "2023-06-30T14:22:51.336188Z",
     "iopub.status.busy": "2023-06-30T14:22:51.335336Z",
     "iopub.status.idle": "2023-06-30T14:24:15.244936Z",
     "shell.execute_reply": "2023-06-30T14:24:15.243689Z"
    },
    "papermill": {
     "duration": 83.920309,
     "end_time": "2023-06-30T14:24:15.247752",
     "exception": false,
     "start_time": "2023-06-30T14:22:51.327443",
     "status": "completed"
    },
    "tags": []
   },
   "outputs": [
    {
     "name": "stdout",
     "output_type": "stream",
     "text": [
      "Epoch 1/15\n",
      "117/117 [==============================] - 25s 164ms/step - loss: 0.4675 - accuracy: 0.8653 - val_loss: 0.3799 - val_accuracy: 0.8673\n",
      "Epoch 2/15\n",
      "117/117 [==============================] - 8s 67ms/step - loss: 0.3371 - accuracy: 0.8653 - val_loss: 0.3125 - val_accuracy: 0.8673\n",
      "Epoch 3/15\n",
      "117/117 [==============================] - 7s 57ms/step - loss: 0.2939 - accuracy: 0.8653 - val_loss: 0.2806 - val_accuracy: 0.8673\n",
      "Epoch 4/15\n",
      "117/117 [==============================] - 3s 25ms/step - loss: 0.2337 - accuracy: 0.8658 - val_loss: 0.1929 - val_accuracy: 0.9125\n",
      "Epoch 5/15\n",
      "117/117 [==============================] - 4s 30ms/step - loss: 0.1326 - accuracy: 0.9780 - val_loss: 0.1230 - val_accuracy: 0.9766\n",
      "Epoch 6/15\n",
      "117/117 [==============================] - 3s 25ms/step - loss: 0.0742 - accuracy: 0.9922 - val_loss: 0.0942 - val_accuracy: 0.9782\n",
      "Epoch 7/15\n",
      "117/117 [==============================] - 2s 21ms/step - loss: 0.0473 - accuracy: 0.9957 - val_loss: 0.0824 - val_accuracy: 0.9815\n",
      "Epoch 8/15\n",
      "117/117 [==============================] - 2s 21ms/step - loss: 0.0344 - accuracy: 0.9973 - val_loss: 0.0773 - val_accuracy: 0.9793\n",
      "Epoch 9/15\n",
      "117/117 [==============================] - 3s 24ms/step - loss: 0.0267 - accuracy: 0.9984 - val_loss: 0.0742 - val_accuracy: 0.9788\n",
      "Epoch 10/15\n",
      "117/117 [==============================] - 2s 17ms/step - loss: 0.0215 - accuracy: 0.9989 - val_loss: 0.0754 - val_accuracy: 0.9777\n",
      "Epoch 11/15\n",
      "117/117 [==============================] - 2s 21ms/step - loss: 0.0180 - accuracy: 0.9989 - val_loss: 0.0794 - val_accuracy: 0.9766\n",
      "Epoch 12/15\n",
      "117/117 [==============================] - 3s 24ms/step - loss: 0.0153 - accuracy: 0.9989 - val_loss: 0.0763 - val_accuracy: 0.9782\n",
      "Epoch 13/15\n",
      "117/117 [==============================] - 2s 16ms/step - loss: 0.0126 - accuracy: 0.9989 - val_loss: 0.0835 - val_accuracy: 0.9766\n",
      "Epoch 14/15\n",
      "117/117 [==============================] - 2s 19ms/step - loss: 0.0103 - accuracy: 0.9992 - val_loss: 0.0836 - val_accuracy: 0.9755\n",
      "Epoch 15/15\n",
      "117/117 [==============================] - 2s 16ms/step - loss: 0.0089 - accuracy: 0.9995 - val_loss: 0.0861 - val_accuracy: 0.9755\n"
     ]
    }
   ],
   "source": [
    "r = model.fit(data_train, Ytrain, validation_data = (data_test, Ytest), epochs = 15)"
   ]
  },
  {
   "cell_type": "code",
   "execution_count": 16,
   "id": "3c90feab",
   "metadata": {
    "execution": {
     "iopub.execute_input": "2023-06-30T14:24:15.341595Z",
     "iopub.status.busy": "2023-06-30T14:24:15.341173Z",
     "iopub.status.idle": "2023-06-30T14:24:15.597057Z",
     "shell.execute_reply": "2023-06-30T14:24:15.596124Z"
    },
    "papermill": {
     "duration": 0.306355,
     "end_time": "2023-06-30T14:24:15.599223",
     "exception": false,
     "start_time": "2023-06-30T14:24:15.292868",
     "status": "completed"
    },
    "tags": []
   },
   "outputs": [
    {
     "data": {
      "image/png": "[encoded data removed]",
      "text/plain": [
       "<Figure size 640x480 with 1 Axes>"
      ]
     },
     "metadata": {},
     "output_type": "display_data"
    }
   ],
   "source": [
    "plt.plot(r.history['loss'], label = 'loss')\n",
    "plt.plot(r.history['val_loss'], label = 'val_loss')\n",
    "plt.show()"
   ]
  },
  {
   "cell_type": "code",
   "execution_count": 17,
   "id": "46a3de29",
   "metadata": {
    "execution": {
     "iopub.execute_input": "2023-06-30T14:24:15.688421Z",
     "iopub.status.busy": "2023-06-30T14:24:15.688096Z",
     "iopub.status.idle": "2023-06-30T14:24:15.950417Z",
     "shell.execute_reply": "2023-06-30T14:24:15.949430Z"
    },
    "papermill": {
     "duration": 0.310175,
     "end_time": "2023-06-30T14:24:15.953566",
     "exception": false,
     "start_time": "2023-06-30T14:24:15.643391",
     "status": "completed"
    },
    "tags": []
   },
   "outputs": [
    {
     "data": {
      "image/png": "[encoded data removed]",
      "text/plain": [
       "<Figure size 640x480 with 1 Axes>"
      ]
     },
     "metadata": {},
     "output_type": "display_data"
    }
   ],
   "source": [
    "plt.plot(r.history['accuracy'], label = 'accuracy')\n",
    "plt.plot(r.history['val_accuracy'], label = 'val_accuracy')\n",
    "plt.show()"
   ]
  },
  {
   "cell_type": "code",
   "execution_count": 18,
   "id": "7f9ff534",
   "metadata": {
    "execution": {
     "iopub.execute_input": "2023-06-30T14:24:16.067650Z",
     "iopub.status.busy": "2023-06-30T14:24:16.067292Z",
     "iopub.status.idle": "2023-06-30T14:24:16.792116Z",
     "shell.execute_reply": "2023-06-30T14:24:16.791093Z"
    },
    "papermill": {
     "duration": 0.773683,
     "end_time": "2023-06-30T14:24:16.794438",
     "exception": false,
     "start_time": "2023-06-30T14:24:16.020755",
     "status": "completed"
    },
    "tags": []
   },
   "outputs": [
    {
     "name": "stdout",
     "output_type": "stream",
     "text": [
      "58/58 [==============================] - 1s 4ms/step\n"
     ]
    }
   ],
   "source": [
    "P = model.predict(data_test)\n",
    "P = P.flatten()"
   ]
  },
  {
   "cell_type": "code",
   "execution_count": 19,
   "id": "21b7818e",
   "metadata": {
    "execution": {
     "iopub.execute_input": "2023-06-30T14:24:16.886888Z",
     "iopub.status.busy": "2023-06-30T14:24:16.885993Z",
     "iopub.status.idle": "2023-06-30T14:24:17.570571Z",
     "shell.execute_reply": "2023-06-30T14:24:17.569633Z"
    },
    "papermill": {
     "duration": 0.732341,
     "end_time": "2023-06-30T14:24:17.572564",
     "exception": false,
     "start_time": "2023-06-30T14:24:16.840223",
     "status": "completed"
    },
    "tags": []
   },
   "outputs": [
    {
     "name": "stdout",
     "output_type": "stream",
     "text": [
      "58/58 [==============================] - 0s 5ms/step - loss: 0.0861 - accuracy: 0.9755\n"
     ]
    },
    {
     "data": {
      "text/plain": [
       "[0.0861218273639679, 0.975530207157135]"
      ]
     },
     "execution_count": 19,
     "metadata": {},
     "output_type": "execute_result"
    }
   ],
   "source": [
    "model.evaluate(data_test, Ytest)"
   ]
  },
  {
   "cell_type": "code",
   "execution_count": 20,
   "id": "6961d28b",
   "metadata": {
    "execution": {
     "iopub.execute_input": "2023-06-30T14:24:17.718589Z",
     "iopub.status.busy": "2023-06-30T14:24:17.718164Z",
     "iopub.status.idle": "2023-06-30T14:24:18.840117Z",
     "shell.execute_reply": "2023-06-30T14:24:18.839229Z"
    },
    "papermill": {
     "duration": 1.195932,
     "end_time": "2023-06-30T14:24:18.842780",
     "exception": false,
     "start_time": "2023-06-30T14:24:17.646848",
     "status": "completed"
    },
    "tags": []
   },
   "outputs": [
    {
     "name": "stdout",
     "output_type": "stream",
     "text": [
      "58/58 [==============================] - 0s 6ms/step\n",
      "Confustion matrix, without normalization\n",
      "[[1595    0]\n",
      " [ 244    0]]\n"
     ]
    },
    {
     "data": {
      "image/png": "[encoded data removed]",
      "text/plain": [
       "<Figure size 640x480 with 2 Axes>"
      ]
     },
     "metadata": {},
     "output_type": "display_data"
    }
   ],
   "source": [
    "from sklearn.metrics import confusion_matrix\n",
    "import itertools\n",
    "\n",
    "def plot_confusion_matrix(cm, classes,\n",
    "                          normalize = False,\n",
    "                          title = 'Confusion matrix',\n",
    "                          cmap = plt.cm.Blues):\n",
    "  if normalize:\n",
    "    cm = cm.astype('float')/cm.sum(axis = 1)[:, np.newaxis]\n",
    "    print('Normalized confusion matrix')\n",
    "  else:\n",
    "    print('Confustion matrix, without normalization')\n",
    "  print(cm)\n",
    "\n",
    "  plt.imshow(cm, interpolation = 'nearest', cmap = cmap)\n",
    "  plt.title(title)\n",
    "  plt.colorbar()\n",
    "  tick_marks = np.arange(len(classes))\n",
    "  plt.xticks(tick_marks, classes, rotation = 45)\n",
    "  plt.yticks(tick_marks, classes)\n",
    "\n",
    "  fmt = '.2f' if normalize else 'd'\n",
    "  thresh = cm.max() / 2.\n",
    "  for i,j in itertools.product(range(cm.shape[0]), range(cm.shape[1])):\n",
    "    plt.text(j, i, format(cm[i, j], fmt),\n",
    "             horizontalalignment = 'center',\n",
    "             color = 'white' if cm[i, j] > thresh else 'black')\n",
    "\n",
    "  plt.tight_layout()\n",
    "  plt.ylabel('True label')\n",
    "  plt.xlabel('Predicted label')\n",
    "  plt.show()\n",
    "\n",
    "p_test = model.predict(data_test).argmax(axis = 1)\n",
    "cm = confusion_matrix(Ytest, p_test)\n",
    "plot_confusion_matrix(cm, list(range(1)))"
   ]
  }
 ],
 "metadata": {
  "kernelspec": {
   "display_name": "Python 3",
   "language": "python",
   "name": "python3"
  },
  "language_info": {
   "codemirror_mode": {
    "name": "ipython",
    "version": 3
   },
   "file_extension": ".py",
   "mimetype": "text/x-python",
   "name": "python",
   "nbconvert_exporter": "python",
   "pygments_lexer": "ipython3",
   "version": "3.10.10"
  },
  "papermill": {
   "default_parameters": {},
   "duration": 114.780765,
   "end_time": "2023-06-30T14:24:22.726661",
   "environment_variables": {},
   "exception": null,
   "input_path": "__notebook__.ipynb",
   "output_path": "__notebook__.ipynb",
   "parameters": {},
   "start_time": "2023-06-30T14:22:27.945896",
   "version": "2.4.0"
  }
 },
 "nbformat": 4,
 "nbformat_minor": 5
}
